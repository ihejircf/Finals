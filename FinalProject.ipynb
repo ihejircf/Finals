{
  "nbformat": 4,
  "nbformat_minor": 0,
  "metadata": {
    "colab": {
      "provenance": []
    },
    "kernelspec": {
      "name": "python3",
      "display_name": "Python 3"
    },
    "language_info": {
      "name": "python"
    }
  },
  "cells": [
    {
      "cell_type": "code",
      "source": [
        "def CSV_Data_Reader(File_Name, Seprator, NonNumerical):\n",
        "  import csv\n",
        "  filename = '/content/Final Premier League Data.csv'\n",
        "  with open(filename) as MyFile: \n",
        "    csv_reader =csv.reader(MyFile)\n",
        "    line_count=0\n",
        "    Data=[]\n",
        "    for row in csv_reader:\n",
        "      if line_count==0:\n",
        "        Header=row\n",
        "      else:\n",
        "        Data.append(row)\n",
        "      line_count=line_count+1\n",
        "  Data_dict={}\n",
        "\n",
        "  idx=0\n",
        "  for name in Header:\n",
        "    Data_dict[name]=[]\n",
        "    for row in Data:\n",
        "      if name in NonNumerical:\n",
        "        Data_dict[name].append(row[idx])\n",
        "      else:\n",
        "        if row[idx].replace('.','').isdigit():\n",
        "          Data_dict[name].append(float(row[idx]))\n",
        "        else:\n",
        "          Data_dict[name].append(None)\n",
        "    idx=idx+1\n",
        "  return Data_dict"
      ],
      "metadata": {
        "id": "ex4g0SYyaWNd"
      },
      "execution_count": 1,
      "outputs": []
    },
    {
      "cell_type": "code",
      "source": [
        "Data_Parsed=CSV_Data_Reader('/content/Final Premier League Data.csv',',',',')\n",
        "Data_Parsed.keys()"
      ],
      "metadata": {
        "colab": {
          "base_uri": "https://localhost:8080/"
        },
        "id": "J6g__qykbdEH",
        "outputId": "ea6dbc78-6cf7-4591-92bf-0642a6dc0a9e"
      },
      "execution_count": 3,
      "outputs": [
        {
          "output_type": "execute_result",
          "data": {
            "text/plain": [
              "dict_keys(['Player', 'Season', 'Born ', 'Age', 'Squad', 'Nation', 'Previous Market Value', 'Market Value', 'Position', 'App', 'Minutes', 'Goals', 'Passes', 'Assists', 'Yellow', 'Red', 'SubOn', 'SubOff', 'Shots', 'SOT', 'HitPost ', 'HeadClear', 'HeadGoal', 'PKScored', 'FKGoal', 'Offsides', 'ThrBall', 'Misses', 'Corners', 'Crosses', 'Blocks', 'Interceptions', 'Fouls', 'Last man ', 'Tackles', 'ELG', 'OwnGoal', 'Clears', 'ABW', 'ABL'])"
            ]
          },
          "metadata": {},
          "execution_count": 3
        }
      ]
    },
    {
      "cell_type": "code",
      "source": [
        "sum = 0\n",
        "for Season in range(2015,2016):\n",
        "  for row in Season:\n",
        "    if row == 'Age':\n",
        "      sum += 1\n",
        "  print(sum)\n",
        "\n",
        "\n",
        "\n",
        "    "
      ],
      "metadata": {
        "id": "S9ifRO_ZtnDf",
        "colab": {
          "base_uri": "https://localhost:8080/",
          "height": 235
        },
        "outputId": "2611d789-2e6f-4292-9d88-3a42efc6fc8c"
      },
      "execution_count": 7,
      "outputs": [
        {
          "output_type": "error",
          "ename": "TypeError",
          "evalue": "ignored",
          "traceback": [
            "\u001b[0;31m---------------------------------------------------------------------------\u001b[0m",
            "\u001b[0;31mTypeError\u001b[0m                                 Traceback (most recent call last)",
            "\u001b[0;32m<ipython-input-7-f1576338a827>\u001b[0m in \u001b[0;36m<module>\u001b[0;34m\u001b[0m\n\u001b[1;32m      1\u001b[0m \u001b[0msum\u001b[0m \u001b[0;34m=\u001b[0m \u001b[0;36m0\u001b[0m\u001b[0;34m\u001b[0m\u001b[0;34m\u001b[0m\u001b[0m\n\u001b[1;32m      2\u001b[0m \u001b[0;32mfor\u001b[0m \u001b[0mSeason\u001b[0m \u001b[0;32min\u001b[0m \u001b[0mrange\u001b[0m\u001b[0;34m(\u001b[0m\u001b[0;36m2015\u001b[0m\u001b[0;34m,\u001b[0m\u001b[0;36m2016\u001b[0m\u001b[0;34m)\u001b[0m\u001b[0;34m:\u001b[0m\u001b[0;34m\u001b[0m\u001b[0;34m\u001b[0m\u001b[0m\n\u001b[0;32m----> 3\u001b[0;31m   \u001b[0;32mfor\u001b[0m \u001b[0mrow\u001b[0m \u001b[0;32min\u001b[0m \u001b[0mSeason\u001b[0m\u001b[0;34m:\u001b[0m\u001b[0;34m\u001b[0m\u001b[0;34m\u001b[0m\u001b[0m\n\u001b[0m\u001b[1;32m      4\u001b[0m     \u001b[0;32mif\u001b[0m \u001b[0mrow\u001b[0m \u001b[0;34m==\u001b[0m \u001b[0;34m'Age'\u001b[0m\u001b[0;34m:\u001b[0m\u001b[0;34m\u001b[0m\u001b[0;34m\u001b[0m\u001b[0m\n\u001b[1;32m      5\u001b[0m       \u001b[0msum\u001b[0m \u001b[0;34m+=\u001b[0m \u001b[0;36m1\u001b[0m\u001b[0;34m\u001b[0m\u001b[0;34m\u001b[0m\u001b[0m\n",
            "\u001b[0;31mTypeError\u001b[0m: 'int' object is not iterable"
          ]
        }
      ]
    },
    {
      "cell_type": "code",
      "source": [
        "import matplotlib.pyplot as plt\n",
        "plt.plot(Data_Parsed['Goals'])"
      ],
      "metadata": {
        "colab": {
          "base_uri": "https://localhost:8080/",
          "height": 282
        },
        "id": "SUxrrUenbzO9",
        "outputId": "dec3dc9c-5a3e-4319-a02c-556434a77243"
      },
      "execution_count": null,
      "outputs": [
        {
          "output_type": "execute_result",
          "data": {
            "text/plain": [
              "[<matplotlib.lines.Line2D at 0x7f67e788f190>]"
            ]
          },
          "metadata": {},
          "execution_count": 3
        },
        {
          "output_type": "display_data",
          "data": {
            "text/plain": [
              "<Figure size 432x288 with 1 Axes>"
            ],
            "image/png": "[encoded data removed]"
          },
          "metadata": {
            "needs_background": "light"
          }
        }
      ]
    },
    {
      "cell_type": "code",
      "source": [
        "plt.scatter(Data_Parsed['Fouls'],Data_Parsed['Tackles'])\n",
        "plt.xlim([1,80])\n",
        "plt.ylim([1,90])\n",
        "plt.title('Fouls vs Tackles')"
      ],
      "metadata": {
        "colab": {
          "base_uri": "https://localhost:8080/",
          "height": 298
        },
        "id": "bU9Xnd0jbhbb",
        "outputId": "1ff78337-7435-41e5-c8d8-c4cda1d9d6f5"
      },
      "execution_count": null,
      "outputs": [
        {
          "output_type": "execute_result",
          "data": {
            "text/plain": [
              "Text(0.5, 1.0, 'Fouls vs Tackles')"
            ]
          },
          "metadata": {},
          "execution_count": 4
        },
        {
          "output_type": "display_data",
          "data": {
            "text/plain": [
              "<Figure size 432x288 with 1 Axes>"
            ],
            "image/png": "[encoded data removed]"
          },
          "metadata": {
            "needs_background": "light"
          }
        }
      ]
    },
    {
      "cell_type": "code",
      "source": [
        "plt.hist(Data_Parsed['Yellow'])"
      ],
      "metadata": {
        "colab": {
          "base_uri": "https://localhost:8080/",
          "height": 317
        },
        "id": "NfE1jJLnvsza",
        "outputId": "a00256aa-07a9-452c-c6bd-8886a2af8a1c"
      },
      "execution_count": null,
      "outputs": [
        {
          "output_type": "execute_result",
          "data": {
            "text/plain": [
              "(array([476., 240., 378., 135.,  73., 105.,  26.,  29.,   4.,   2.]),\n",
              " array([ 0. ,  1.4,  2.8,  4.2,  5.6,  7. ,  8.4,  9.8, 11.2, 12.6, 14. ]),\n",
              " <a list of 10 Patch objects>)"
            ]
          },
          "metadata": {},
          "execution_count": 5
        },
        {
          "output_type": "display_data",
          "data": {
            "text/plain": [
              "<Figure size 432x288 with 1 Axes>"
            ],
            "image/png": "[encoded data removed]"
          },
          "metadata": {
            "needs_background": "light"
          }
        }
      ]
    },
    {
      "cell_type": "code",
      "source": [
        "import numpy as np\n",
        "import pandas as pd"
      ],
      "metadata": {
        "id": "pDWnnEIjzJQZ"
      },
      "execution_count": null,
      "outputs": []
    },
    {
      "cell_type": "code",
      "source": [
        "df_stats = pd.read_csv('Final Premier League Data.csv')"
      ],
      "metadata": {
        "id": "EUwVStqrzKcD"
      },
      "execution_count": null,
      "outputs": []
    },
    {
      "cell_type": "code",
      "source": [
        "df_stats.info()"
      ],
      "metadata": {
        "colab": {
          "base_uri": "https://localhost:8080/"
        },
        "id": "E2mPU1CnzmQf",
        "outputId": "14bd2c50-7c6f-4e4a-a362-a5498f6fdda6"
      },
      "execution_count": null,
      "outputs": [
        {
          "output_type": "stream",
          "name": "stdout",
          "text": [
            "<class 'pandas.core.frame.DataFrame'>\n",
            "RangeIndex: 1468 entries, 0 to 1467\n",
            "Data columns (total 40 columns):\n",
            " #   Column                 Non-Null Count  Dtype \n",
            "---  ------                 --------------  ----- \n",
            " 0   Player                 1468 non-null   object\n",
            " 1   Season                 1468 non-null   object\n",
            " 2   Born                   1468 non-null   int64 \n",
            " 3   Age                    1468 non-null   int64 \n",
            " 4   Squad                  1468 non-null   object\n",
            " 5   Nation                 1468 non-null   object\n",
            " 6   Previous Market Value  1468 non-null   int64 \n",
            " 7   Market Value           1468 non-null   int64 \n",
            " 8   Position               1468 non-null   object\n",
            " 9   App                    1468 non-null   int64 \n",
            " 10  Minutes                1468 non-null   int64 \n",
            " 11  Goals                  1468 non-null   int64 \n",
            " 12  Passes                 1468 non-null   int64 \n",
            " 13  Assists                1468 non-null   int64 \n",
            " 14  Yellow                 1468 non-null   int64 \n",
            " 15  Red                    1468 non-null   int64 \n",
            " 16  SubOn                  1468 non-null   int64 \n",
            " 17  SubOff                 1468 non-null   int64 \n",
            " 18  Shots                  1468 non-null   int64 \n",
            " 19  SOT                    1468 non-null   int64 \n",
            " 20  HitPost                1468 non-null   int64 \n",
            " 21  HeadClear              1468 non-null   int64 \n",
            " 22  HeadGoal               1468 non-null   int64 \n",
            " 23  PKScored               1468 non-null   int64 \n",
            " 24  FKGoal                 1468 non-null   int64 \n",
            " 25  Offsides               1468 non-null   int64 \n",
            " 26  ThrBall                1468 non-null   int64 \n",
            " 27  Misses                 1468 non-null   int64 \n",
            " 28  Corners                1468 non-null   int64 \n",
            " 29  Crosses                1468 non-null   int64 \n",
            " 30  Blocks                 1468 non-null   int64 \n",
            " 31  Interceptions          1468 non-null   int64 \n",
            " 32  Fouls                  1468 non-null   int64 \n",
            " 33  Last man               1468 non-null   int64 \n",
            " 34  Tackles                1468 non-null   int64 \n",
            " 35  ELG                    1468 non-null   int64 \n",
            " 36  OwnGoal                1468 non-null   int64 \n",
            " 37  Clears                 1468 non-null   int64 \n",
            " 38  ABW                    1468 non-null   int64 \n",
            " 39  ABL                    1468 non-null   int64 \n",
            "dtypes: int64(35), object(5)\n",
            "memory usage: 458.9+ KB\n"
          ]
        }
      ]
    },
    {
      "cell_type": "code",
      "source": [
        "df_stats.head()"
      ],
      "metadata": {
        "colab": {
          "base_uri": "https://localhost:8080/",
          "height": 384
        },
        "id": "BAwZeRjrzs6Z",
        "outputId": "3442a78c-a03c-4c3e-f39c-440eb49fbf9a"
      },
      "execution_count": null,
      "outputs": [
        {
          "output_type": "execute_result",
          "data": {
            "text/plain": [
              "            Player     Season  Born   Age            Squad    Nation  \\\n",
              "0             Éder  2015-2016   1987   27     Swansea City  Portugal   \n",
              "1    Álvaro Morata  2017-2018   1992   25          Chelsea     Spain   \n",
              "2    Álvaro Morata  2018-2019   1992   25          Chelsea     Spain   \n",
              "3   Álvaro Negredo  2016-2017   1985   30    Middlesbrough     Spain   \n",
              "4  Aaron Cresswell  2018-2019   1989   28  West Ham United   England   \n",
              "\n",
              "   Previous Market Value  Market Value Position  App  ...  Blocks  \\\n",
              "0                5500000       4500000       FW   13  ...       0   \n",
              "1               44000000      58500000       FW   31  ...       4   \n",
              "2               58500000      45000000       FW   16  ...       1   \n",
              "3                8250000       6750000       FW   36  ...       3   \n",
              "4               13200000       9900000       DF   20  ...       7   \n",
              "\n",
              "   Interceptions  Fouls  Last man   Tackles  ELG  OwnGoal  Clears  ABW  ABL  \n",
              "0              0     11          0        4    0        0       7    9   20  \n",
              "1              6     41          0       13    0        0      20   54   59  \n",
              "2              0     19          0        8    0        0       6   18   28  \n",
              "3             10     45          0       18    0        0      65  175  177  \n",
              "4             23      2          1       29    0        0      42   25   18  \n",
              "\n",
              "[5 rows x 40 columns]"
            ],
            "text/html": [
              "\n",
              "  <div id=\"df-da751424-14e8-415d-b11f-5a3f0c3494b0\">\n",
              "    <div class=\"colab-df-container\">\n",
              "      <div>\n",
              "<style scoped>\n",
              "    .dataframe tbody tr th:only-of-type {\n",
              "        vertical-align: middle;\n",
              "    }\n",
              "\n",
              "    .dataframe tbody tr th {\n",
              "        vertical-align: top;\n",
              "    }\n",
              "\n",
              "    .dataframe thead th {\n",
              "        text-align: right;\n",
              "    }\n",
              "</style>\n",
              "<table border=\"1\" class=\"dataframe\">\n",
              "  <thead>\n",
              "    <tr style=\"text-align: right;\">\n",
              "      <th></th>\n",
              "      <th>Player</th>\n",
              "      <th>Season</th>\n",
              "      <th>Born</th>\n",
              "      <th>Age</th>\n",
              "      <th>Squad</th>\n",
              "      <th>Nation</th>\n",
              "      <th>Previous Market Value</th>\n",
              "      <th>Market Value</th>\n",
              "      <th>Position</th>\n",
              "      <th>App</th>\n",
              "      <th>...</th>\n",
              "      <th>Blocks</th>\n",
              "      <th>Interceptions</th>\n",
              "      <th>Fouls</th>\n",
              "      <th>Last man</th>\n",
              "      <th>Tackles</th>\n",
              "      <th>ELG</th>\n",
              "      <th>OwnGoal</th>\n",
              "      <th>Clears</th>\n",
              "      <th>ABW</th>\n",
              "      <th>ABL</th>\n",
              "    </tr>\n",
              "  </thead>\n",
              "  <tbody>\n",
              "    <tr>\n",
              "      <th>0</th>\n",
              "      <td>Éder</td>\n",
              "      <td>2015-2016</td>\n",
              "      <td>1987</td>\n",
              "      <td>27</td>\n",
              "      <td>Swansea City</td>\n",
              "      <td>Portugal</td>\n",
              "      <td>5500000</td>\n",
              "      <td>4500000</td>\n",
              "      <td>FW</td>\n",
              "      <td>13</td>\n",
              "      <td>...</td>\n",
              "      <td>0</td>\n",
              "      <td>0</td>\n",
              "      <td>11</td>\n",
              "      <td>0</td>\n",
              "      <td>4</td>\n",
              "      <td>0</td>\n",
              "      <td>0</td>\n",
              "      <td>7</td>\n",
              "      <td>9</td>\n",
              "      <td>20</td>\n",
              "    </tr>\n",
              "    <tr>\n",
              "      <th>1</th>\n",
              "      <td>Álvaro Morata</td>\n",
              "      <td>2017-2018</td>\n",
              "      <td>1992</td>\n",
              "      <td>25</td>\n",
              "      <td>Chelsea</td>\n",
              "      <td>Spain</td>\n",
              "      <td>44000000</td>\n",
              "      <td>58500000</td>\n",
              "      <td>FW</td>\n",
              "      <td>31</td>\n",
              "      <td>...</td>\n",
              "      <td>4</td>\n",
              "      <td>6</td>\n",
              "      <td>41</td>\n",
              "      <td>0</td>\n",
              "      <td>13</td>\n",
              "      <td>0</td>\n",
              "      <td>0</td>\n",
              "      <td>20</td>\n",
              "      <td>54</td>\n",
              "      <td>59</td>\n",
              "    </tr>\n",
              "    <tr>\n",
              "      <th>2</th>\n",
              "      <td>Álvaro Morata</td>\n",
              "      <td>2018-2019</td>\n",
              "      <td>1992</td>\n",
              "      <td>25</td>\n",
              "      <td>Chelsea</td>\n",
              "      <td>Spain</td>\n",
              "      <td>58500000</td>\n",
              "      <td>45000000</td>\n",
              "      <td>FW</td>\n",
              "      <td>16</td>\n",
              "      <td>...</td>\n",
              "      <td>1</td>\n",
              "      <td>0</td>\n",
              "      <td>19</td>\n",
              "      <td>0</td>\n",
              "      <td>8</td>\n",
              "      <td>0</td>\n",
              "      <td>0</td>\n",
              "      <td>6</td>\n",
              "      <td>18</td>\n",
              "      <td>28</td>\n",
              "    </tr>\n",
              "    <tr>\n",
              "      <th>3</th>\n",
              "      <td>Álvaro Negredo</td>\n",
              "      <td>2016-2017</td>\n",
              "      <td>1985</td>\n",
              "      <td>30</td>\n",
              "      <td>Middlesbrough</td>\n",
              "      <td>Spain</td>\n",
              "      <td>8250000</td>\n",
              "      <td>6750000</td>\n",
              "      <td>FW</td>\n",
              "      <td>36</td>\n",
              "      <td>...</td>\n",
              "      <td>3</td>\n",
              "      <td>10</td>\n",
              "      <td>45</td>\n",
              "      <td>0</td>\n",
              "      <td>18</td>\n",
              "      <td>0</td>\n",
              "      <td>0</td>\n",
              "      <td>65</td>\n",
              "      <td>175</td>\n",
              "      <td>177</td>\n",
              "    </tr>\n",
              "    <tr>\n",
              "      <th>4</th>\n",
              "      <td>Aaron Cresswell</td>\n",
              "      <td>2018-2019</td>\n",
              "      <td>1989</td>\n",
              "      <td>28</td>\n",
              "      <td>West Ham United</td>\n",
              "      <td>England</td>\n",
              "      <td>13200000</td>\n",
              "      <td>9900000</td>\n",
              "      <td>DF</td>\n",
              "      <td>20</td>\n",
              "      <td>...</td>\n",
              "      <td>7</td>\n",
              "      <td>23</td>\n",
              "      <td>2</td>\n",
              "      <td>1</td>\n",
              "      <td>29</td>\n",
              "      <td>0</td>\n",
              "      <td>0</td>\n",
              "      <td>42</td>\n",
              "      <td>25</td>\n",
              "      <td>18</td>\n",
              "    </tr>\n",
              "  </tbody>\n",
              "</table>\n",
              "<p>5 rows × 40 columns</p>\n",
              "</div>\n",
              "      <button class=\"colab-df-convert\" onclick=\"convertToInteractive('df-da751424-14e8-415d-b11f-5a3f0c3494b0')\"\n",
              "              title=\"Convert this dataframe to an interactive table.\"\n",
              "              style=\"display:none;\">\n",
              "        \n",
              "  <svg xmlns=\"http://www.w3.org/2000/svg\" height=\"24px\"viewBox=\"0 0 24 24\"\n",
              "       width=\"24px\">\n",
              "    <path d=\"M0 0h24v24H0V0z\" fill=\"none\"/>\n",
              "    <path d=\"M18.56 5.44l.94 2.06.94-2.06 2.06-.94-2.06-.94-.94-2.06-.94 2.06-2.06.94zm-11 1L8.5 8.5l.94-2.06 2.06-.94-2.06-.94L8.5 2.5l-.94 2.06-2.06.94zm10 10l.94 2.06.94-2.06 2.06-.94-2.06-.94-.94-2.06-.94 2.06-2.06.94z\"/><path d=\"M17.41 7.96l-1.37-1.37c-.4-.4-.92-.59-1.43-.59-.52 0-1.04.2-1.43.59L10.3 9.45l-7.72 7.72c-.78.78-.78 2.05 0 2.83L4 21.41c.39.39.9.59 1.41.59.51 0 1.02-.2 1.41-.59l7.78-7.78 2.81-2.81c.8-.78.8-2.07 0-2.86zM5.41 20L4 18.59l7.72-7.72 1.47 1.35L5.41 20z\"/>\n",
              "  </svg>\n",
              "      </button>\n",
              "      \n",
              "  <style>\n",
              "    .colab-df-container {\n",
              "      display:flex;\n",
              "      flex-wrap:wrap;\n",
              "      gap: 12px;\n",
              "    }\n",
              "\n",
              "    .colab-df-convert {\n",
              "      background-color: #E8F0FE;\n",
              "      border: none;\n",
              "      border-radius: 50%;\n",
              "      cursor: pointer;\n",
              "      display: none;\n",
              "      fill: #1967D2;\n",
              "      height: 32px;\n",
              "      padding: 0 0 0 0;\n",
              "      width: 32px;\n",
              "    }\n",
              "\n",
              "    .colab-df-convert:hover {\n",
              "      background-color: #E2EBFA;\n",
              "      box-shadow: 0px 1px 2px rgba(60, 64, 67, 0.3), 0px 1px 3px 1px rgba(60, 64, 67, 0.15);\n",
              "      fill: #174EA6;\n",
              "    }\n",
              "\n",
              "    [theme=dark] .colab-df-convert {\n",
              "      background-color: #3B4455;\n",
              "      fill: #D2E3FC;\n",
              "    }\n",
              "\n",
              "    [theme=dark] .colab-df-convert:hover {\n",
              "      background-color: #434B5C;\n",
              "      box-shadow: 0px 1px 3px 1px rgba(0, 0, 0, 0.15);\n",
              "      filter: drop-shadow(0px 1px 2px rgba(0, 0, 0, 0.3));\n",
              "      fill: #FFFFFF;\n",
              "    }\n",
              "  </style>\n",
              "\n",
              "      <script>\n",
              "        const buttonEl =\n",
              "          document.querySelector('#df-da751424-14e8-415d-b11f-5a3f0c3494b0 button.colab-df-convert');\n",
              "        buttonEl.style.display =\n",
              "          google.colab.kernel.accessAllowed ? 'block' : 'none';\n",
              "\n",
              "        async function convertToInteractive(key) {\n",
              "          const element = document.querySelector('#df-da751424-14e8-415d-b11f-5a3f0c3494b0');\n",
              "          const dataTable =\n",
              "            await google.colab.kernel.invokeFunction('convertToInteractive',\n",
              "                                                     [key], {});\n",
              "          if (!dataTable) return;\n",
              "\n",
              "          const docLinkHtml = 'Like what you see? Visit the ' +\n",
              "            '<a target=\"_blank\" href=https://colab.research.google.com/notebooks/data_table.ipynb>data table notebook</a>'\n",
              "            + ' to learn more about interactive tables.';\n",
              "          element.innerHTML = '';\n",
              "          dataTable['output_type'] = 'display_data';\n",
              "          await google.colab.output.renderOutput(dataTable, element);\n",
              "          const docLink = document.createElement('div');\n",
              "          docLink.innerHTML = docLinkHtml;\n",
              "          element.appendChild(docLink);\n",
              "        }\n",
              "      </script>\n",
              "    </div>\n",
              "  </div>\n",
              "  "
            ]
          },
          "metadata": {},
          "execution_count": 11
        }
      ]
    },
    {
      "cell_type": "code",
      "source": [
        "df_stats.describe()"
      ],
      "metadata": {
        "colab": {
          "base_uri": "https://localhost:8080/",
          "height": 428
        },
        "id": "o9bLHBvXBpgr",
        "outputId": "b6e6d440-5c42-4132-8308-9bf24f2bc71e"
      },
      "execution_count": null,
      "outputs": [
        {
          "output_type": "execute_result",
          "data": {
            "text/plain": [
              "             Born           Age  Previous Market Value  Market Value  \\\n",
              "count  1468.000000  1468.000000           1.468000e+03  1.468000e+03   \n",
              "mean   1989.995913    26.218665           1.281657e+07  1.509818e+07   \n",
              "std       3.766350     3.570195           1.502734e+07  1.852305e+07   \n",
              "min    1977.000000    17.000000           1.100000e+05  1.000000e+05   \n",
              "25%    1987.000000    24.000000           4.050000e+06  4.500000e+06   \n",
              "50%    1990.000000    26.000000           8.000000e+06  9.000000e+06   \n",
              "75%    1993.000000    29.000000           1.650000e+07  1.800000e+07   \n",
              "max    2000.000000    38.000000           1.650000e+08  1.650000e+08   \n",
              "\n",
              "               App      Minutes        Goals       Passes      Assists  \\\n",
              "count  1468.000000  1468.000000  1468.000000  1468.000000  1468.000000   \n",
              "mean     25.040191  1802.946866     2.695504   843.788147     1.858992   \n",
              "std       8.288617   859.369230     3.989496   545.359188     2.497690   \n",
              "min      10.000000   125.000000     0.000000    30.000000     0.000000   \n",
              "25%      18.000000  1059.750000     0.000000   414.750000     0.000000   \n",
              "50%      26.000000  1806.000000     1.000000   736.500000     1.000000   \n",
              "75%      32.000000  2495.000000     4.000000  1150.000000     3.000000   \n",
              "max      38.000000  3420.000000    32.000000  3118.000000    19.000000   \n",
              "\n",
              "            Yellow  ...       Blocks  Interceptions        Fouls    Last man   \\\n",
              "count  1468.000000  ...  1468.000000    1468.000000  1468.000000  1468.000000   \n",
              "mean      3.074251  ...     6.764305      26.610354    21.341962     0.102861   \n",
              "std       2.590543  ...     8.345163      22.538782    13.299095     0.385019   \n",
              "min       0.000000  ...     0.000000       0.000000     0.000000     0.000000   \n",
              "25%       1.000000  ...     1.000000       9.000000    11.000000     0.000000   \n",
              "50%       3.000000  ...     4.000000      21.000000    19.000000     0.000000   \n",
              "75%       5.000000  ...     9.000000      38.000000    29.000000     0.000000   \n",
              "max      14.000000  ...    59.000000     156.000000    81.000000     3.000000   \n",
              "\n",
              "           Tackles          ELG      OwnGoal       Clears          ABW  \\\n",
              "count  1468.000000  1468.000000  1468.000000  1468.000000  1468.000000   \n",
              "mean     34.955041     0.205722     0.065395    48.564033    36.051090   \n",
              "std      24.747987     0.516841     0.297366    57.054543    38.355325   \n",
              "min       0.000000     0.000000     0.000000     0.000000     0.000000   \n",
              "25%      16.000000     0.000000     0.000000    10.000000    10.000000   \n",
              "50%      30.000000     0.000000     0.000000    25.000000    23.000000   \n",
              "75%      48.000000     0.000000     0.000000    65.250000    49.000000   \n",
              "max     175.000000     3.000000     4.000000   352.000000   322.000000   \n",
              "\n",
              "               ABL  \n",
              "count  1468.000000  \n",
              "mean     36.882153  \n",
              "std      33.134114  \n",
              "min       0.000000  \n",
              "25%      16.000000  \n",
              "50%      28.000000  \n",
              "75%      45.000000  \n",
              "max     268.000000  \n",
              "\n",
              "[8 rows x 35 columns]"
            ],
            "text/html": [
              "\n",
              "  <div id=\"df-a1183b02-9661-483f-823f-1d6732dbb7f9\">\n",
              "    <div class=\"colab-df-container\">\n",
              "      <div>\n",
              "<style scoped>\n",
              "    .dataframe tbody tr th:only-of-type {\n",
              "        vertical-align: middle;\n",
              "    }\n",
              "\n",
              "    .dataframe tbody tr th {\n",
              "        vertical-align: top;\n",
              "    }\n",
              "\n",
              "    .dataframe thead th {\n",
              "        text-align: right;\n",
              "    }\n",
              "</style>\n",
              "<table border=\"1\" class=\"dataframe\">\n",
              "  <thead>\n",
              "    <tr style=\"text-align: right;\">\n",
              "      <th></th>\n",
              "      <th>Born</th>\n",
              "      <th>Age</th>\n",
              "      <th>Previous Market Value</th>\n",
              "      <th>Market Value</th>\n",
              "      <th>App</th>\n",
              "      <th>Minutes</th>\n",
              "      <th>Goals</th>\n",
              "      <th>Passes</th>\n",
              "      <th>Assists</th>\n",
              "      <th>Yellow</th>\n",
              "      <th>...</th>\n",
              "      <th>Blocks</th>\n",
              "      <th>Interceptions</th>\n",
              "      <th>Fouls</th>\n",
              "      <th>Last man</th>\n",
              "      <th>Tackles</th>\n",
              "      <th>ELG</th>\n",
              "      <th>OwnGoal</th>\n",
              "      <th>Clears</th>\n",
              "      <th>ABW</th>\n",
              "      <th>ABL</th>\n",
              "    </tr>\n",
              "  </thead>\n",
              "  <tbody>\n",
              "    <tr>\n",
              "      <th>count</th>\n",
              "      <td>1468.000000</td>\n",
              "      <td>1468.000000</td>\n",
              "      <td>1.468000e+03</td>\n",
              "      <td>1.468000e+03</td>\n",
              "      <td>1468.000000</td>\n",
              "      <td>1468.000000</td>\n",
              "      <td>1468.000000</td>\n",
              "      <td>1468.000000</td>\n",
              "      <td>1468.000000</td>\n",
              "      <td>1468.000000</td>\n",
              "      <td>...</td>\n",
              "      <td>1468.000000</td>\n",
              "      <td>1468.000000</td>\n",
              "      <td>1468.000000</td>\n",
              "      <td>1468.000000</td>\n",
              "      <td>1468.000000</td>\n",
              "      <td>1468.000000</td>\n",
              "      <td>1468.000000</td>\n",
              "      <td>1468.000000</td>\n",
              "      <td>1468.000000</td>\n",
              "      <td>1468.000000</td>\n",
              "    </tr>\n",
              "    <tr>\n",
              "      <th>mean</th>\n",
              "      <td>1989.995913</td>\n",
              "      <td>26.218665</td>\n",
              "      <td>1.281657e+07</td>\n",
              "      <td>1.509818e+07</td>\n",
              "      <td>25.040191</td>\n",
              "      <td>1802.946866</td>\n",
              "      <td>2.695504</td>\n",
              "      <td>843.788147</td>\n",
              "      <td>1.858992</td>\n",
              "      <td>3.074251</td>\n",
              "      <td>...</td>\n",
              "      <td>6.764305</td>\n",
              "      <td>26.610354</td>\n",
              "      <td>21.341962</td>\n",
              "      <td>0.102861</td>\n",
              "      <td>34.955041</td>\n",
              "      <td>0.205722</td>\n",
              "      <td>0.065395</td>\n",
              "      <td>48.564033</td>\n",
              "      <td>36.051090</td>\n",
              "      <td>36.882153</td>\n",
              "    </tr>\n",
              "    <tr>\n",
              "      <th>std</th>\n",
              "      <td>3.766350</td>\n",
              "      <td>3.570195</td>\n",
              "      <td>1.502734e+07</td>\n",
              "      <td>1.852305e+07</td>\n",
              "      <td>8.288617</td>\n",
              "      <td>859.369230</td>\n",
              "      <td>3.989496</td>\n",
              "      <td>545.359188</td>\n",
              "      <td>2.497690</td>\n",
              "      <td>2.590543</td>\n",
              "      <td>...</td>\n",
              "      <td>8.345163</td>\n",
              "      <td>22.538782</td>\n",
              "      <td>13.299095</td>\n",
              "      <td>0.385019</td>\n",
              "      <td>24.747987</td>\n",
              "      <td>0.516841</td>\n",
              "      <td>0.297366</td>\n",
              "      <td>57.054543</td>\n",
              "      <td>38.355325</td>\n",
              "      <td>33.134114</td>\n",
              "    </tr>\n",
              "    <tr>\n",
              "      <th>min</th>\n",
              "      <td>1977.000000</td>\n",
              "      <td>17.000000</td>\n",
              "      <td>1.100000e+05</td>\n",
              "      <td>1.000000e+05</td>\n",
              "      <td>10.000000</td>\n",
              "      <td>125.000000</td>\n",
              "      <td>0.000000</td>\n",
              "      <td>30.000000</td>\n",
              "      <td>0.000000</td>\n",
              "      <td>0.000000</td>\n",
              "      <td>...</td>\n",
              "      <td>0.000000</td>\n",
              "      <td>0.000000</td>\n",
              "      <td>0.000000</td>\n",
              "      <td>0.000000</td>\n",
              "      <td>0.000000</td>\n",
              "      <td>0.000000</td>\n",
              "      <td>0.000000</td>\n",
              "      <td>0.000000</td>\n",
              "      <td>0.000000</td>\n",
              "      <td>0.000000</td>\n",
              "    </tr>\n",
              "    <tr>\n",
              "      <th>25%</th>\n",
              "      <td>1987.000000</td>\n",
              "      <td>24.000000</td>\n",
              "      <td>4.050000e+06</td>\n",
              "      <td>4.500000e+06</td>\n",
              "      <td>18.000000</td>\n",
              "      <td>1059.750000</td>\n",
              "      <td>0.000000</td>\n",
              "      <td>414.750000</td>\n",
              "      <td>0.000000</td>\n",
              "      <td>1.000000</td>\n",
              "      <td>...</td>\n",
              "      <td>1.000000</td>\n",
              "      <td>9.000000</td>\n",
              "      <td>11.000000</td>\n",
              "      <td>0.000000</td>\n",
              "      <td>16.000000</td>\n",
              "      <td>0.000000</td>\n",
              "      <td>0.000000</td>\n",
              "      <td>10.000000</td>\n",
              "      <td>10.000000</td>\n",
              "      <td>16.000000</td>\n",
              "    </tr>\n",
              "    <tr>\n",
              "      <th>50%</th>\n",
              "      <td>1990.000000</td>\n",
              "      <td>26.000000</td>\n",
              "      <td>8.000000e+06</td>\n",
              "      <td>9.000000e+06</td>\n",
              "      <td>26.000000</td>\n",
              "      <td>1806.000000</td>\n",
              "      <td>1.000000</td>\n",
              "      <td>736.500000</td>\n",
              "      <td>1.000000</td>\n",
              "      <td>3.000000</td>\n",
              "      <td>...</td>\n",
              "      <td>4.000000</td>\n",
              "      <td>21.000000</td>\n",
              "      <td>19.000000</td>\n",
              "      <td>0.000000</td>\n",
              "      <td>30.000000</td>\n",
              "      <td>0.000000</td>\n",
              "      <td>0.000000</td>\n",
              "      <td>25.000000</td>\n",
              "      <td>23.000000</td>\n",
              "      <td>28.000000</td>\n",
              "    </tr>\n",
              "    <tr>\n",
              "      <th>75%</th>\n",
              "      <td>1993.000000</td>\n",
              "      <td>29.000000</td>\n",
              "      <td>1.650000e+07</td>\n",
              "      <td>1.800000e+07</td>\n",
              "      <td>32.000000</td>\n",
              "      <td>2495.000000</td>\n",
              "      <td>4.000000</td>\n",
              "      <td>1150.000000</td>\n",
              "      <td>3.000000</td>\n",
              "      <td>5.000000</td>\n",
              "      <td>...</td>\n",
              "      <td>9.000000</td>\n",
              "      <td>38.000000</td>\n",
              "      <td>29.000000</td>\n",
              "      <td>0.000000</td>\n",
              "      <td>48.000000</td>\n",
              "      <td>0.000000</td>\n",
              "      <td>0.000000</td>\n",
              "      <td>65.250000</td>\n",
              "      <td>49.000000</td>\n",
              "      <td>45.000000</td>\n",
              "    </tr>\n",
              "    <tr>\n",
              "      <th>max</th>\n",
              "      <td>2000.000000</td>\n",
              "      <td>38.000000</td>\n",
              "      <td>1.650000e+08</td>\n",
              "      <td>1.650000e+08</td>\n",
              "      <td>38.000000</td>\n",
              "      <td>3420.000000</td>\n",
              "      <td>32.000000</td>\n",
              "      <td>3118.000000</td>\n",
              "      <td>19.000000</td>\n",
              "      <td>14.000000</td>\n",
              "      <td>...</td>\n",
              "      <td>59.000000</td>\n",
              "      <td>156.000000</td>\n",
              "      <td>81.000000</td>\n",
              "      <td>3.000000</td>\n",
              "      <td>175.000000</td>\n",
              "      <td>3.000000</td>\n",
              "      <td>4.000000</td>\n",
              "      <td>352.000000</td>\n",
              "      <td>322.000000</td>\n",
              "      <td>268.000000</td>\n",
              "    </tr>\n",
              "  </tbody>\n",
              "</table>\n",
              "<p>8 rows × 35 columns</p>\n",
              "</div>\n",
              "      <button class=\"colab-df-convert\" onclick=\"convertToInteractive('df-a1183b02-9661-483f-823f-1d6732dbb7f9')\"\n",
              "              title=\"Convert this dataframe to an interactive table.\"\n",
              "              style=\"display:none;\">\n",
              "        \n",
              "  <svg xmlns=\"http://www.w3.org/2000/svg\" height=\"24px\"viewBox=\"0 0 24 24\"\n",
              "       width=\"24px\">\n",
              "    <path d=\"M0 0h24v24H0V0z\" fill=\"none\"/>\n",
              "    <path d=\"M18.56 5.44l.94 2.06.94-2.06 2.06-.94-2.06-.94-.94-2.06-.94 2.06-2.06.94zm-11 1L8.5 8.5l.94-2.06 2.06-.94-2.06-.94L8.5 2.5l-.94 2.06-2.06.94zm10 10l.94 2.06.94-2.06 2.06-.94-2.06-.94-.94-2.06-.94 2.06-2.06.94z\"/><path d=\"M17.41 7.96l-1.37-1.37c-.4-.4-.92-.59-1.43-.59-.52 0-1.04.2-1.43.59L10.3 9.45l-7.72 7.72c-.78.78-.78 2.05 0 2.83L4 21.41c.39.39.9.59 1.41.59.51 0 1.02-.2 1.41-.59l7.78-7.78 2.81-2.81c.8-.78.8-2.07 0-2.86zM5.41 20L4 18.59l7.72-7.72 1.47 1.35L5.41 20z\"/>\n",
              "  </svg>\n",
              "      </button>\n",
              "      \n",
              "  <style>\n",
              "    .colab-df-container {\n",
              "      display:flex;\n",
              "      flex-wrap:wrap;\n",
              "      gap: 12px;\n",
              "    }\n",
              "\n",
              "    .colab-df-convert {\n",
              "      background-color: #E8F0FE;\n",
              "      border: none;\n",
              "      border-radius: 50%;\n",
              "      cursor: pointer;\n",
              "      display: none;\n",
              "      fill: #1967D2;\n",
              "      height: 32px;\n",
              "      padding: 0 0 0 0;\n",
              "      width: 32px;\n",
              "    }\n",
              "\n",
              "    .colab-df-convert:hover {\n",
              "      background-color: #E2EBFA;\n",
              "      box-shadow: 0px 1px 2px rgba(60, 64, 67, 0.3), 0px 1px 3px 1px rgba(60, 64, 67, 0.15);\n",
              "      fill: #174EA6;\n",
              "    }\n",
              "\n",
              "    [theme=dark] .colab-df-convert {\n",
              "      background-color: #3B4455;\n",
              "      fill: #D2E3FC;\n",
              "    }\n",
              "\n",
              "    [theme=dark] .colab-df-convert:hover {\n",
              "      background-color: #434B5C;\n",
              "      box-shadow: 0px 1px 3px 1px rgba(0, 0, 0, 0.15);\n",
              "      filter: drop-shadow(0px 1px 2px rgba(0, 0, 0, 0.3));\n",
              "      fill: #FFFFFF;\n",
              "    }\n",
              "  </style>\n",
              "\n",
              "      <script>\n",
              "        const buttonEl =\n",
              "          document.querySelector('#df-a1183b02-9661-483f-823f-1d6732dbb7f9 button.colab-df-convert');\n",
              "        buttonEl.style.display =\n",
              "          google.colab.kernel.accessAllowed ? 'block' : 'none';\n",
              "\n",
              "        async function convertToInteractive(key) {\n",
              "          const element = document.querySelector('#df-a1183b02-9661-483f-823f-1d6732dbb7f9');\n",
              "          const dataTable =\n",
              "            await google.colab.kernel.invokeFunction('convertToInteractive',\n",
              "                                                     [key], {});\n",
              "          if (!dataTable) return;\n",
              "\n",
              "          const docLinkHtml = 'Like what you see? Visit the ' +\n",
              "            '<a target=\"_blank\" href=https://colab.research.google.com/notebooks/data_table.ipynb>data table notebook</a>'\n",
              "            + ' to learn more about interactive tables.';\n",
              "          element.innerHTML = '';\n",
              "          dataTable['output_type'] = 'display_data';\n",
              "          await google.colab.output.renderOutput(dataTable, element);\n",
              "          const docLink = document.createElement('div');\n",
              "          docLink.innerHTML = docLinkHtml;\n",
              "          element.appendChild(docLink);\n",
              "        }\n",
              "      </script>\n",
              "    </div>\n",
              "  </div>\n",
              "  "
            ]
          },
          "metadata": {},
          "execution_count": 12
        }
      ]
    },
    {
      "cell_type": "code",
      "source": [
        "#STATS FOR 2015-2016 SEASON\n",
        "count_players= ((df_stats['Season']=='2015-2016').value_counts())\n",
        "print(count_players)\n",
        "df_goals=(df_stats['Goals'][(df_stats['Season']=='2015-2016')].sum())\n",
        "print(df_goals)\n",
        "average_age=(df_stats['Age'][(df_stats['Season']=='2015-2016')].value_counts()).mean()\n",
        "print(average_age)\n"
      ],
      "metadata": {
        "id": "S4LVa0gN7bDy",
        "colab": {
          "base_uri": "https://localhost:8080/"
        },
        "outputId": "53aa1eb8-7f69-4c46-d916-fabfd0a23064"
      },
      "execution_count": null,
      "outputs": [
        {
          "output_type": "stream",
          "name": "stdout",
          "text": [
            "False    1092\n",
            "True      376\n",
            "Name: Season, dtype: int64\n",
            "976\n",
            "18.8\n"
          ]
        }
      ]
    },
    {
      "cell_type": "code",
      "source": [
        "count_players.plot.bar()"
      ],
      "metadata": {
        "colab": {
          "base_uri": "https://localhost:8080/",
          "height": 298
        },
        "id": "KpZV0IMEqxeU",
        "outputId": "6b2300fb-4479-4354-ed24-60047dc5cb91"
      },
      "execution_count": null,
      "outputs": [
        {
          "output_type": "execute_result",
          "data": {
            "text/plain": [
              "<matplotlib.axes._subplots.AxesSubplot at 0x7f67dfd9c290>"
            ]
          },
          "metadata": {},
          "execution_count": 12
        },
        {
          "output_type": "display_data",
          "data": {
            "text/plain": [
              "<Figure size 432x288 with 1 Axes>"
            ],
            "image/png": "[encoded data removed]"
          },
          "metadata": {
            "needs_background": "light"
          }
        }
      ]
    },
    {
      "cell_type": "code",
      "source": [
        "#STATS FOR 2016-2017 SEASON\n",
        "count_players= ((df_stats['Season']=='2016-2017').value_counts())\n",
        "print(count_players)\n",
        "df_goals=(df_stats['Goals'][(df_stats['Season']=='2016-2017')].sum())\n",
        "print(df_goals)\n",
        "average_age=(df_stats['Age'][(df_stats['Season']=='2016-2017')].value_counts()).mean()\n",
        "print(average_age)"
      ],
      "metadata": {
        "colab": {
          "base_uri": "https://localhost:8080/"
        },
        "id": "LNUFP1wgndQh",
        "outputId": "c08aa1ee-76de-4cf5-8e70-e0e208605116"
      },
      "execution_count": null,
      "outputs": [
        {
          "output_type": "stream",
          "name": "stdout",
          "text": [
            "False    1102\n",
            "True      366\n",
            "Name: Season, dtype: int64\n",
            "995\n",
            "19.263157894736842\n"
          ]
        }
      ]
    },
    {
      "cell_type": "code",
      "source": [
        "count_players.plot.bar()"
      ],
      "metadata": {
        "colab": {
          "base_uri": "https://localhost:8080/",
          "height": 298
        },
        "id": "tKoVdQrDsfS6",
        "outputId": "3aca15ae-4f38-4d58-d08e-818d48e22e7b"
      },
      "execution_count": null,
      "outputs": [
        {
          "output_type": "execute_result",
          "data": {
            "text/plain": [
              "<matplotlib.axes._subplots.AxesSubplot at 0x7f67dfd3be10>"
            ]
          },
          "metadata": {},
          "execution_count": 17
        },
        {
          "output_type": "display_data",
          "data": {
            "text/plain": [
              "<Figure size 432x288 with 1 Axes>"
            ],
            "image/png": "[encoded data removed]"
          },
          "metadata": {
            "needs_background": "light"
          }
        }
      ]
    },
    {
      "cell_type": "code",
      "source": [
        "#STATS FOR 2017-2018 SEASON\n",
        "count_players= ((df_stats['Season']=='2017-2018').value_counts())\n",
        "print(count_players)\n",
        "df_goals=(df_stats['Goals'][(df_stats['Season']=='2017-2018')].sum())\n",
        "print(df_goals)\n",
        "average_age=(df_stats['Age'][(df_stats['Season']=='2017-2018')].value_counts()).mean()\n",
        "print(average_age)"
      ],
      "metadata": {
        "colab": {
          "base_uri": "https://localhost:8080/"
        },
        "id": "StNG4cF9nvjL",
        "outputId": "d2fd6199-dbc5-4746-e5a8-d0894ee251b4"
      },
      "execution_count": null,
      "outputs": [
        {
          "output_type": "stream",
          "name": "stdout",
          "text": [
            "False    1109\n",
            "True      359\n",
            "Name: Season, dtype: int64\n",
            "977\n",
            "17.95\n"
          ]
        }
      ]
    },
    {
      "cell_type": "code",
      "source": [
        "count_players.plot.bar()"
      ],
      "metadata": {
        "colab": {
          "base_uri": "https://localhost:8080/",
          "height": 298
        },
        "id": "qvEWmhWxsldL",
        "outputId": "e7c0aaef-045e-454e-e009-099229ea90f4"
      },
      "execution_count": null,
      "outputs": [
        {
          "output_type": "execute_result",
          "data": {
            "text/plain": [
              "<matplotlib.axes._subplots.AxesSubplot at 0x7f67dfc97790>"
            ]
          },
          "metadata": {},
          "execution_count": 19
        },
        {
          "output_type": "display_data",
          "data": {
            "text/plain": [
              "<Figure size 432x288 with 1 Axes>"
            ],
            "image/png": "[encoded data removed]"
          },
          "metadata": {
            "needs_background": "light"
          }
        }
      ]
    },
    {
      "cell_type": "code",
      "source": [
        "#STATS FOR 2018-2019 SEASON\n",
        "count_players= ((df_stats['Season']=='2018-2019').value_counts())\n",
        "print(count_players)\n",
        "df_goals=(df_stats['Goals'][(df_stats['Season']=='2018-2019')].sum())\n",
        "print(df_goals)\n",
        "average_age=(df_stats['Age'][(df_stats['Season']=='2018-2019')].value_counts()).mean()\n",
        "print(average_age)"
      ],
      "metadata": {
        "colab": {
          "base_uri": "https://localhost:8080/"
        },
        "id": "wwjkDAs2oc4d",
        "outputId": "069f07f9-15c4-4ea8-ca30-92170ab3f082"
      },
      "execution_count": null,
      "outputs": [
        {
          "output_type": "stream",
          "name": "stdout",
          "text": [
            "False    1101\n",
            "True      367\n",
            "Name: Season, dtype: int64\n",
            "1009\n",
            "20.38888888888889\n"
          ]
        }
      ]
    },
    {
      "cell_type": "code",
      "source": [
        "count_players.plot.bar()"
      ],
      "metadata": {
        "colab": {
          "base_uri": "https://localhost:8080/",
          "height": 298
        },
        "id": "7cfSKBKVspZ-",
        "outputId": "95946eb6-2827-4035-b7dc-09e119f7cdf5"
      },
      "execution_count": null,
      "outputs": [
        {
          "output_type": "execute_result",
          "data": {
            "text/plain": [
              "<matplotlib.axes._subplots.AxesSubplot at 0x7f67dfc22550>"
            ]
          },
          "metadata": {},
          "execution_count": 21
        },
        {
          "output_type": "display_data",
          "data": {
            "text/plain": [
              "<Figure size 432x288 with 1 Axes>"
            ],
            "image/png": "[encoded data removed]"
          },
          "metadata": {
            "needs_background": "light"
          }
        }
      ]
    },
    {
      "cell_type": "code",
      "source": [],
      "metadata": {
        "id": "VYsje-rTBnaP"
      },
      "execution_count": null,
      "outputs": []
    }
  ]
}